{
 "cells": [
  {
   "cell_type": "code",
   "execution_count": 46,
   "id": "f430d398",
   "metadata": {},
   "outputs": [],
   "source": [
    "import pandas as pd\n",
    "import numpy as np\n",
    "import matplotlib.pyplot as plt\n",
    "%matplotlib inline\n",
    "\n",
    "df = pd.read_csv('tmdb-movies.csv')"
   ]
  },
  {
   "cell_type": "code",
   "execution_count": 47,
   "id": "02c54cd4",
   "metadata": {},
   "outputs": [
    {
     "name": "stdout",
     "output_type": "stream",
     "text": [
      "<class 'pandas.core.frame.DataFrame'>\n",
      "RangeIndex: 10866 entries, 0 to 10865\n",
      "Data columns (total 21 columns):\n",
      " #   Column                Non-Null Count  Dtype  \n",
      "---  ------                --------------  -----  \n",
      " 0   id                    10866 non-null  int64  \n",
      " 1   imdb_id               10856 non-null  object \n",
      " 2   popularity            10866 non-null  float64\n",
      " 3   budget                10866 non-null  int64  \n",
      " 4   revenue               10866 non-null  int64  \n",
      " 5   original_title        10866 non-null  object \n",
      " 6   cast                  10790 non-null  object \n",
      " 7   homepage              2936 non-null   object \n",
      " 8   director              10822 non-null  object \n",
      " 9   tagline               8042 non-null   object \n",
      " 10  keywords              9373 non-null   object \n",
      " 11  overview              10862 non-null  object \n",
      " 12  runtime               10866 non-null  int64  \n",
      " 13  genres                10843 non-null  object \n",
      " 14  production_companies  9836 non-null   object \n",
      " 15  release_date          10866 non-null  object \n",
      " 16  vote_count            10866 non-null  int64  \n",
      " 17  vote_average          10866 non-null  float64\n",
      " 18  release_year          10866 non-null  int64  \n",
      " 19  budget_adj            10866 non-null  float64\n",
      " 20  revenue_adj           10866 non-null  float64\n",
      "dtypes: float64(4), int64(6), object(11)\n",
      "memory usage: 1.7+ MB\n"
     ]
    }
   ],
   "source": [
    "df.info()"
   ]
  },
  {
   "cell_type": "code",
   "execution_count": 48,
   "id": "19aa565b",
   "metadata": {},
   "outputs": [],
   "source": [
    "df.drop(['id','imdb_id', 'homepage', 'tagline', 'overview', 'release_year', 'release_date', 'keywords'], axis = 1, inplace = True)"
   ]
  },
  {
   "cell_type": "code",
   "execution_count": 49,
   "id": "67029638",
   "metadata": {},
   "outputs": [
    {
     "name": "stdout",
     "output_type": "stream",
     "text": [
      "<class 'pandas.core.frame.DataFrame'>\n",
      "RangeIndex: 10866 entries, 0 to 10865\n",
      "Data columns (total 13 columns):\n",
      " #   Column                Non-Null Count  Dtype  \n",
      "---  ------                --------------  -----  \n",
      " 0   popularity            10866 non-null  float64\n",
      " 1   budget                10866 non-null  int64  \n",
      " 2   revenue               10866 non-null  int64  \n",
      " 3   original_title        10866 non-null  object \n",
      " 4   cast                  10790 non-null  object \n",
      " 5   director              10822 non-null  object \n",
      " 6   runtime               10866 non-null  int64  \n",
      " 7   genres                10843 non-null  object \n",
      " 8   production_companies  9836 non-null   object \n",
      " 9   vote_count            10866 non-null  int64  \n",
      " 10  vote_average          10866 non-null  float64\n",
      " 11  budget_adj            10866 non-null  float64\n",
      " 12  revenue_adj           10866 non-null  float64\n",
      "dtypes: float64(4), int64(4), object(5)\n",
      "memory usage: 1.1+ MB\n"
     ]
    }
   ],
   "source": [
    "df.info()"
   ]
  },
  {
   "cell_type": "code",
   "execution_count": 50,
   "id": "70efa61e",
   "metadata": {},
   "outputs": [
    {
     "data": {
      "text/plain": [
       "99.0"
      ]
     },
     "execution_count": 50,
     "metadata": {},
     "output_type": "execute_result"
    }
   ],
   "source": [
    "df['runtime'].median()"
   ]
  },
  {
   "cell_type": "code",
   "execution_count": 51,
   "id": "8f47a90b",
   "metadata": {},
   "outputs": [],
   "source": [
    "below_mean = df.query('runtime < 99.0')\n",
    "above_mean = df.query('runtime >= 99.0')"
   ]
  },
  {
   "cell_type": "code",
   "execution_count": 52,
   "id": "90f03cf9",
   "metadata": {},
   "outputs": [
    {
     "data": {
      "text/plain": [
       "19070406.01226082"
      ]
     },
     "execution_count": 52,
     "metadata": {},
     "output_type": "execute_result"
    }
   ],
   "source": [
    "below_mean['revenue'].mean()"
   ]
  },
  {
   "cell_type": "code",
   "execution_count": 53,
   "id": "d3cfed01",
   "metadata": {},
   "outputs": [
    {
     "data": {
      "text/plain": [
       "60197737.973919384"
      ]
     },
     "execution_count": 53,
     "metadata": {},
     "output_type": "execute_result"
    }
   ],
   "source": [
    "above_mean['revenue'].mean()"
   ]
  },
  {
   "cell_type": "code",
   "execution_count": 78,
   "id": "f7cf5d0a",
   "metadata": {},
   "outputs": [
    {
     "data": {
      "image/png": "[encoded data removed]",
      "text/plain": [
       "<Figure size 432x288 with 1 Axes>"
      ]
     },
     "metadata": {
      "needs_background": "light"
     },
     "output_type": "display_data"
    }
   ],
   "source": [
    "# create plot\n",
    "fig, ax = plt.subplots()\n",
    "bar_width = 100\n",
    "X = np.arange(1)\n",
    "\n",
    "p1 = plt.bar(X, below_mean['revenue'].mean(), bar_width, color='b',\n",
    "label='Below Runtime Median')\n",
    "\n",
    "# The bar of second plot starts where the first bar ends\n",
    "p2 = plt.bar(X + bar_width, above_mean['revenue'].mean(), bar_width,\n",
    "color='g',\n",
    "label='Above Runtime Median')\n",
    "\n",
    "plt.xlabel('Mean')\n",
    "plt.ylabel('Revenue')\n",
    "plt.title('Mean Revenue')\n",
    "\n",
    "plt.legend()\n",
    "\n",
    "plt.tight_layout()\n",
    "plt.show()"
   ]
  },
  {
   "cell_type": "code",
   "execution_count": 38,
   "id": "19916775",
   "metadata": {},
   "outputs": [
    {
     "name": "stderr",
     "output_type": "stream",
     "text": [
      "C:\\Users\\todhiambo\\AppData\\Local\\Temp\\ipykernel_1860\\1677645537.py:1: SettingWithCopyWarning: \n",
      "A value is trying to be set on a copy of a slice from a DataFrame.\n",
      "Try using .loc[row_indexer,col_indexer] = value instead\n",
      "\n",
      "See the caveats in the documentation: https://pandas.pydata.org/pandas-docs/stable/user_guide/indexing.html#returning-a-view-versus-a-copy\n",
      "  below_mean['median'] = below_df\n",
      "C:\\Users\\todhiambo\\AppData\\Local\\Temp\\ipykernel_1860\\1677645537.py:2: SettingWithCopyWarning: \n",
      "A value is trying to be set on a copy of a slice from a DataFrame.\n",
      "Try using .loc[row_indexer,col_indexer] = value instead\n",
      "\n",
      "See the caveats in the documentation: https://pandas.pydata.org/pandas-docs/stable/user_guide/indexing.html#returning-a-view-versus-a-copy\n",
      "  above_mean['median'] = above_df\n"
     ]
    }
   ],
   "source": [
    "below_mean['median'] = below_df\n",
    "above_mean['median'] = above_df"
   ]
  },
  {
   "cell_type": "code",
   "execution_count": 44,
   "id": "357dd683",
   "metadata": {},
   "outputs": [
    {
     "name": "stdout",
     "output_type": "stream",
     "text": [
      "<class 'pandas.core.frame.DataFrame'>\n",
      "Int64Index: 5483 entries, 0 to 10862\n",
      "Data columns (total 14 columns):\n",
      " #   Column                Non-Null Count  Dtype  \n",
      "---  ------                --------------  -----  \n",
      " 0   popularity            5483 non-null   float64\n",
      " 1   budget                5483 non-null   int64  \n",
      " 2   revenue               5483 non-null   int64  \n",
      " 3   original_title        5483 non-null   object \n",
      " 4   cast                  5470 non-null   object \n",
      " 5   director              5472 non-null   object \n",
      " 6   runtime               5483 non-null   int64  \n",
      " 7   genres                5476 non-null   object \n",
      " 8   production_companies  5139 non-null   object \n",
      " 9   vote_count            5483 non-null   int64  \n",
      " 10  vote_average          5483 non-null   float64\n",
      " 11  budget_adj            5483 non-null   float64\n",
      " 12  revenue_adj           5483 non-null   float64\n",
      " 13  median                5483 non-null   object \n",
      "dtypes: float64(4), int64(4), object(6)\n",
      "memory usage: 642.5+ KB\n",
      "<class 'pandas.core.frame.DataFrame'>\n",
      "Int64Index: 5383 entries, 8 to 10865\n",
      "Data columns (total 14 columns):\n",
      " #   Column                Non-Null Count  Dtype  \n",
      "---  ------                --------------  -----  \n",
      " 0   popularity            5383 non-null   float64\n",
      " 1   budget                5383 non-null   int64  \n",
      " 2   revenue               5383 non-null   int64  \n",
      " 3   original_title        5383 non-null   object \n",
      " 4   cast                  5320 non-null   object \n",
      " 5   director              5350 non-null   object \n",
      " 6   runtime               5383 non-null   int64  \n",
      " 7   genres                5367 non-null   object \n",
      " 8   production_companies  4697 non-null   object \n",
      " 9   vote_count            5383 non-null   int64  \n",
      " 10  vote_average          5383 non-null   float64\n",
      " 11  budget_adj            5383 non-null   float64\n",
      " 12  revenue_adj           5383 non-null   float64\n",
      " 13  median                5383 non-null   object \n",
      "dtypes: float64(4), int64(4), object(6)\n",
      "memory usage: 630.8+ KB\n"
     ]
    },
    {
     "data": {
      "text/plain": [
       "(None, None)"
      ]
     },
     "execution_count": 44,
     "metadata": {},
     "output_type": "execute_result"
    }
   ],
   "source": [
    "above_mean.info(), below_mean.info()"
   ]
  }
 ],
 "metadata": {
  "kernelspec": {
   "display_name": "Python 3 (ipykernel)",
   "language": "python",
   "name": "python3"
  },
  "language_info": {
   "codemirror_mode": {
    "name": "ipython",
    "version": 3
   },
   "file_extension": ".py",
   "mimetype": "text/x-python",
   "name": "python",
   "nbconvert_exporter": "python",
   "pygments_lexer": "ipython3",
   "version": "3.9.12"
  }
 },
 "nbformat": 4,
 "nbformat_minor": 5
}
